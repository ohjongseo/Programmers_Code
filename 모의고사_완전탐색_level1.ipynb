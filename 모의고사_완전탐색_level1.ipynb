{
 "cells": [
  {
   "cell_type": "code",
   "execution_count": 1,
   "id": "2c18b91b",
   "metadata": {},
   "outputs": [],
   "source": [
    "def solution(answers):\n",
    "    answer = []\n",
    "    correct_count = [0,0,0]\n",
    "    type1 = [1,2,3,4,5]\n",
    "    type2 = [2,1,2,3,2,4,2,5]\n",
    "    type3 = [3,3,1,1,2,2,4,4,5,5]\n",
    "    answersheet1 = type1 * (len(answers) // len(type1)) + type1[:(len(answers)%len(type1))]\n",
    "    answersheet2 = type2 * (len(answers) // len(type2)) + type2[:(len(answers)%len(type2))]\n",
    "    answersheet3 = type3 * (len(answers) // len(type3)) + type3[:(len(answers)%len(type3))]\n",
    "    for i in range(len(answers)):\n",
    "        if answers[i] == answersheet1[i]:\n",
    "            correct_count[0] += 1\n",
    "        if answers[i] == answersheet2[i]:\n",
    "            correct_count[1] += 1\n",
    "        if answers[i] == answersheet3[i]:\n",
    "            correct_count[2] += 1\n",
    "    max_count = max(correct_count)\n",
    "    if max_count == correct_count[0]:\n",
    "        answer.append(1)\n",
    "    if max_count == correct_count[1]:\n",
    "        answer.append(2)\n",
    "    if max_count == correct_count[2]:\n",
    "        answer.append(3)\n",
    "    return answer "
   ]
  },
  {
   "cell_type": "code",
   "execution_count": 3,
   "id": "e071d306",
   "metadata": {},
   "outputs": [
    {
     "data": {
      "text/plain": [
       "True"
      ]
     },
     "execution_count": 3,
     "metadata": {},
     "output_type": "execute_result"
    }
   ],
   "source": [
    "solution([1,2,3,4,5]) == [1]"
   ]
  },
  {
   "cell_type": "code",
   "execution_count": 5,
   "id": "c5cdc836",
   "metadata": {},
   "outputs": [
    {
     "data": {
      "text/plain": [
       "True"
      ]
     },
     "execution_count": 5,
     "metadata": {},
     "output_type": "execute_result"
    }
   ],
   "source": [
    "solution([1,3,2,4,2]) == [1,2,3]"
   ]
  }
 ],
 "metadata": {
  "kernelspec": {
   "display_name": "Python 3",
   "language": "python",
   "name": "python3"
  },
  "language_info": {
   "codemirror_mode": {
    "name": "ipython",
    "version": 3
   },
   "file_extension": ".py",
   "mimetype": "text/x-python",
   "name": "python",
   "nbconvert_exporter": "python",
   "pygments_lexer": "ipython3",
   "version": "3.8.5"
  }
 },
 "nbformat": 4,
 "nbformat_minor": 5
}
