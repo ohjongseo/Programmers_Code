{
 "cells": [
  {
   "cell_type": "code",
   "execution_count": 1,
   "metadata": {},
   "outputs": [],
   "source": [
    "genres = [\n",
    "   [\"classic\", \"pop\", \"classic\", \"classic\", \"pop\"]\n",
    "]"
   ]
  },
  {
   "cell_type": "code",
   "execution_count": 2,
   "metadata": {},
   "outputs": [],
   "source": [
    "plays = [\n",
    "   [500, 600, 150, 800, 2500]\n",
    "]"
   ]
  },
  {
   "cell_type": "code",
   "execution_count": 3,
   "metadata": {},
   "outputs": [],
   "source": [
    "answers = [[4, 1, 3, 0]]"
   ]
  },
  {
   "cell_type": "code",
   "execution_count": 4,
   "metadata": {},
   "outputs": [],
   "source": [
    "def solution(genres, plays):\n",
    "    answer = []\n",
    "    genre_dict = dict()\n",
    "    album_dict = dict()\n",
    "    for i in range(len(genres)):\n",
    "        genre, play = genres[i], plays[i]\n",
    "        if genre not in album_dict.keys():\n",
    "            genre_dict[genre] = play\n",
    "            album_dict[genre] = [[play, i], [-1,-1]]\n",
    "        else:\n",
    "            genre_dict[genre] += play\n",
    "            if (album_dict[genre][1][0] < play) and (album_dict[genre][0][0] < play):\n",
    "                album_dict[genre][1] = album_dict[genre][0]\n",
    "                album_dict[genre][0] = [play, i]\n",
    "            elif (album_dict[genre][1][0] < play) and (album_dict[genre][0][0] > play):\n",
    "                album_dict[genre][1] = [play, i]\n",
    "            elif (album_dict[genre][1][0] < play) and (album_dict[genre][0][0] == play):\n",
    "                album_dict[genre][1] = [play, i]\n",
    "            else:\n",
    "                pass;\n",
    "    genre_dict = sorted(genre_dict.items(), key = lambda x:x[1], reverse = True)\n",
    "    for genre in genre_dict:\n",
    "        answer.append(album_dict[genre[0]][0][1])\n",
    "        if album_dict[genre[0]][1][1] == -1:\n",
    "            pass\n",
    "        else:\n",
    "            answer.append(album_dict[genre[0]][1][1])\n",
    "                \n",
    "    return answer"
   ]
  },
  {
   "cell_type": "code",
   "execution_count": 5,
   "metadata": {
    "scrolled": true
   },
   "outputs": [
    {
     "name": "stdout",
     "output_type": "stream",
     "text": [
      "True\n"
     ]
    }
   ],
   "source": [
    "zips = zip(genres, plays, answers)\n",
    "for g, p, a in zips:\n",
    "    if solution(g, p) == a:\n",
    "        print(True)\n",
    "    else:\n",
    "        print(False)"
   ]
  }
 ],
 "metadata": {
  "kernelspec": {
   "display_name": "Python 3",
   "language": "python",
   "name": "python3"
  },
  "language_info": {
   "codemirror_mode": {
    "name": "ipython",
    "version": 3
   },
   "file_extension": ".py",
   "mimetype": "text/x-python",
   "name": "python",
   "nbconvert_exporter": "python",
   "pygments_lexer": "ipython3",
   "version": "3.8.5"
  }
 },
 "nbformat": 4,
 "nbformat_minor": 4
}
