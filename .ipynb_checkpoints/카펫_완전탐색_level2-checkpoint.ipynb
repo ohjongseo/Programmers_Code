{
 "cells": [
  {
   "cell_type": "code",
   "execution_count": 2,
   "id": "213cf28c",
   "metadata": {},
   "outputs": [],
   "source": [
    "def solution(brown, yellow):\n",
    "    answer = []\n",
    "    if yellow == 1:\n",
    "        return [3, 3]\n",
    "    else:\n",
    "        for i in range(1, yellow):\n",
    "            if yellow % i == 0:\n",
    "                a = i\n",
    "                b = yellow // i\n",
    "                print(a, b)\n",
    "                if (b >= a) and (2*(a+b) + 4 == brown):\n",
    "                    return [b+2, a+2]\n",
    "            else:\n",
    "                continue\n",
    "    return answer"
   ]
  },
  {
   "cell_type": "code",
   "execution_count": 3,
   "id": "9e5c772d",
   "metadata": {},
   "outputs": [
    {
     "name": "stdout",
     "output_type": "stream",
     "text": [
      "1 2\n"
     ]
    },
    {
     "data": {
      "text/plain": [
       "True"
      ]
     },
     "execution_count": 3,
     "metadata": {},
     "output_type": "execute_result"
    }
   ],
   "source": [
    "solution(10, 2) == [4, 3]"
   ]
  },
  {
   "cell_type": "code",
   "execution_count": null,
   "id": "ba65e418",
   "metadata": {},
   "outputs": [],
   "source": []
  }
 ],
 "metadata": {
  "kernelspec": {
   "display_name": "Python 3",
   "language": "python",
   "name": "python3"
  },
  "language_info": {
   "codemirror_mode": {
    "name": "ipython",
    "version": 3
   },
   "file_extension": ".py",
   "mimetype": "text/x-python",
   "name": "python",
   "nbconvert_exporter": "python",
   "pygments_lexer": "ipython3",
   "version": "3.8.5"
  }
 },
 "nbformat": 4,
 "nbformat_minor": 5
}
