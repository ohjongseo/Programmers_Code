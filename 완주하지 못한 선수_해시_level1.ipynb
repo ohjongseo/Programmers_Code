{
 "cells": [
  {
   "cell_type": "code",
   "execution_count": 4,
   "metadata": {},
   "outputs": [],
   "source": [
    "participants = [\n",
    "    [\"leo\", \"kiki\", \"eden\"],\n",
    "    [\"marina\", \"josipa\", \"nikola\", \"vinko\", \"filipa\"],\n",
    "    [\"mislav\", \"stanko\", \"mislav\", \"ana\"]\n",
    "]"
   ]
  },
  {
   "cell_type": "code",
   "execution_count": 5,
   "metadata": {},
   "outputs": [],
   "source": [
    "completions = [\n",
    "    [\"eden\", \"kiki\"],\n",
    "    [\"josipa\", \"filipa\", \"marina\", \"nikola\"],\n",
    "    [\"stanko\", \"ana\", \"mislav\"]\n",
    "]"
   ]
  },
  {
   "cell_type": "code",
   "execution_count": 6,
   "metadata": {},
   "outputs": [],
   "source": [
    "answers = [\"leo\", \"vinko\", \"mislav\"]"
   ]
  },
  {
   "cell_type": "code",
   "execution_count": 7,
   "metadata": {},
   "outputs": [],
   "source": [
    "def solution(participant, completion):\n",
    "    h = dict()\n",
    "    for i in participant:\n",
    "        if i not in h.keys():\n",
    "            h[i] = 1\n",
    "        else:\n",
    "            h[i] += 1\n",
    "    for i in completion:\n",
    "        if h[i] == 1:\n",
    "            del h[i]\n",
    "        else:\n",
    "            h[i] -= 1\n",
    "    for i in h:\n",
    "        return i"
   ]
  },
  {
   "cell_type": "code",
   "execution_count": 8,
   "metadata": {},
   "outputs": [
    {
     "name": "stdout",
     "output_type": "stream",
     "text": [
      "True\n",
      "True\n",
      "True\n"
     ]
    }
   ],
   "source": [
    "zips = zip(participants, completions, answers)\n",
    "for p, c, a in zips:\n",
    "    if solution(p, c) == a:\n",
    "        print(True)\n",
    "    else:\n",
    "        print(False)"
   ]
  }
 ],
 "metadata": {
  "kernelspec": {
   "display_name": "Python 3",
   "language": "python",
   "name": "python3"
  },
  "language_info": {
   "codemirror_mode": {
    "name": "ipython",
    "version": 3
   },
   "file_extension": ".py",
   "mimetype": "text/x-python",
   "name": "python",
   "nbconvert_exporter": "python",
   "pygments_lexer": "ipython3",
   "version": "3.8.5"
  }
 },
 "nbformat": 4,
 "nbformat_minor": 4
}
