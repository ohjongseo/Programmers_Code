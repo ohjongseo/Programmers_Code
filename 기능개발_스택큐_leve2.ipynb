{
 "cells": [
  {
   "cell_type": "code",
   "execution_count": 1,
   "metadata": {},
   "outputs": [],
   "source": [
    "from collections import deque\n",
    "def solution(progresses, speeds):\n",
    "    answer = []\n",
    "    while progresses:\n",
    "        total_list = zip(progresses, speeds)\n",
    "        progresses = [a + b for a, b in total_list]\n",
    "        if progresses[0] >= 100:\n",
    "            num = 0\n",
    "            while progresses:\n",
    "                if progresses[0] >= 100:\n",
    "                    num += 1\n",
    "                    progresses = deque(progresses)\n",
    "                    speeds = deque(speeds)\n",
    "                    progresses.popleft()\n",
    "                    speeds.popleft()\n",
    "                else:\n",
    "                    answer.append(num)\n",
    "                    break;\n",
    "            else:\n",
    "                answer.append(num)\n",
    "    return answer"
   ]
  },
  {
   "cell_type": "code",
   "execution_count": 2,
   "metadata": {},
   "outputs": [
    {
     "data": {
      "text/plain": [
       "True"
      ]
     },
     "execution_count": 2,
     "metadata": {},
     "output_type": "execute_result"
    }
   ],
   "source": [
    "solution([95, 90, 99, 99, 80, 99],[1, 1, 1, 1, 1, 1]) == [1, 3, 2]"
   ]
  },
  {
   "cell_type": "code",
   "execution_count": 3,
   "metadata": {},
   "outputs": [
    {
     "data": {
      "text/plain": [
       "True"
      ]
     },
     "execution_count": 3,
     "metadata": {},
     "output_type": "execute_result"
    }
   ],
   "source": [
    "solution([93, 30, 55], [1, 30, 5]) == [2, 1]"
   ]
  }
 ],
 "metadata": {
  "celltoolbar": "Raw Cell Format",
  "kernelspec": {
   "display_name": "Python 3",
   "language": "python",
   "name": "python3"
  },
  "language_info": {
   "codemirror_mode": {
    "name": "ipython",
    "version": 3
   },
   "file_extension": ".py",
   "mimetype": "text/x-python",
   "name": "python",
   "nbconvert_exporter": "python",
   "pygments_lexer": "ipython3",
   "version": "3.8.5"
  }
 },
 "nbformat": 4,
 "nbformat_minor": 4
}
