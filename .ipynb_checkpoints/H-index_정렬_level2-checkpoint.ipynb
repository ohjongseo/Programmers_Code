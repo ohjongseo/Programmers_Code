{
 "cells": [
  {
   "cell_type": "code",
   "execution_count": 1,
   "metadata": {},
   "outputs": [],
   "source": [
    "def solution(citations):\n",
    "    answer = 0\n",
    "    max_num = 0\n",
    "    temp = [0] * 10001\n",
    "    tatal_paper = len(citations)\n",
    "    for i in citations:\n",
    "        temp[i] += 1\n",
    "    not_citation = 0\n",
    "    citation = 0\n",
    "    for i in range(1, max(citations)+1):\n",
    "        not_citation += temp[i-1]\n",
    "        citation = tatal_paper - not_citation\n",
    "        if citation >= i and answer < i:\n",
    "            answer = i\n",
    "    return answer"
   ]
  },
  {
   "cell_type": "code",
   "execution_count": 3,
   "metadata": {},
   "outputs": [],
   "source": [
    "def solution2(citations):\n",
    "    print(citations)\n",
    "    citations = sorted(citations)\n",
    "    print(citations)\n",
    "    l = len(citations)\n",
    "    print(l)\n",
    "    for i in range(l):\n",
    "        print('c', l, i, citations[i])\n",
    "        if citations[i] >= l-i:\n",
    "            return l-i\n",
    "    return 0"
   ]
  },
  {
   "cell_type": "code",
   "execution_count": 18,
   "metadata": {},
   "outputs": [],
   "source": [
    "def solution3(citations):\n",
    "    print(citations)\n",
    "    citations.sort(reverse=True)\n",
    "    print(citations)\n",
    "    print(max(map(min, enumerate(citations, start=1))))\n",
    "    answer = max(map(min, enumerate(citations, start=1)))\n",
    "    return answer"
   ]
  },
  {
   "cell_type": "code",
   "execution_count": 19,
   "metadata": {},
   "outputs": [
    {
     "data": {
      "text/plain": [
       "3"
      ]
     },
     "execution_count": 19,
     "metadata": {},
     "output_type": "execute_result"
    }
   ],
   "source": [
    "solution([3, 3, 0, 6, 1, 5])"
   ]
  },
  {
   "cell_type": "code",
   "execution_count": 20,
   "metadata": {},
   "outputs": [
    {
     "name": "stdout",
     "output_type": "stream",
     "text": [
      "[3, 3, 0, 6, 1, 5]\n",
      "[0, 1, 3, 3, 5, 6]\n",
      "6\n",
      "c 6 0 0\n",
      "c 6 1 1\n",
      "c 6 2 3\n",
      "c 6 3 3\n"
     ]
    },
    {
     "data": {
      "text/plain": [
       "3"
      ]
     },
     "execution_count": 20,
     "metadata": {},
     "output_type": "execute_result"
    }
   ],
   "source": [
    "solution2([3, 3, 0, 6, 1, 5])"
   ]
  },
  {
   "cell_type": "code",
   "execution_count": 21,
   "metadata": {},
   "outputs": [
    {
     "name": "stdout",
     "output_type": "stream",
     "text": [
      "[3, 3, 0, 6, 1, 5]\n",
      "[6, 5, 3, 3, 1, 0]\n",
      "3\n"
     ]
    },
    {
     "data": {
      "text/plain": [
       "3"
      ]
     },
     "execution_count": 21,
     "metadata": {},
     "output_type": "execute_result"
    }
   ],
   "source": [
    "solution3([3, 3, 0, 6, 1, 5])"
   ]
  },
  {
   "cell_type": "code",
   "execution_count": null,
   "metadata": {},
   "outputs": [],
   "source": []
  }
 ],
 "metadata": {
  "kernelspec": {
   "display_name": "Python 3",
   "language": "python",
   "name": "python3"
  },
  "language_info": {
   "codemirror_mode": {
    "name": "ipython",
    "version": 3
   },
   "file_extension": ".py",
   "mimetype": "text/x-python",
   "name": "python",
   "nbconvert_exporter": "python",
   "pygments_lexer": "ipython3",
   "version": "3.8.5"
  }
 },
 "nbformat": 4,
 "nbformat_minor": 4
}
