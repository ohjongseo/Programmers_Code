{
 "cells": [
  {
   "cell_type": "code",
   "execution_count": 4,
   "metadata": {},
   "outputs": [],
   "source": [
    "from collections import deque\n",
    "def solution(bridge_length, weight, truck_weights):\n",
    "    answer = 1\n",
    "    total_weight = 0\n",
    "    truck_weights = deque(truck_weights)\n",
    "    trucks_in_bridge = deque()\n",
    "    trucks_in_bridge.append(truck_weights.popleft())\n",
    "    truck_time_dict = dict()\n",
    "    in_truck_position = 0\n",
    "    out_truck_position = 0\n",
    "    truck_time_dict[in_truck_position] = answer + bridge_length\n",
    "    while True:\n",
    "        answer += 1\n",
    "        if answer == truck_time_dict[out_truck_position]:\n",
    "            trucks_in_bridge.popleft()\n",
    "            out_truck_position += 1\n",
    "        if truck_weights:\n",
    "            if sum(trucks_in_bridge) + truck_weights[0] <= weight:\n",
    "                in_truck_position += 1\n",
    "                trucks_in_bridge.append(truck_weights.popleft())\n",
    "                truck_time_dict[in_truck_position] = answer + bridge_length\n",
    "        if not trucks_in_bridge:\n",
    "            break;\n",
    "            \n",
    "    return answer"
   ]
  }
 ],
 "metadata": {
  "kernelspec": {
   "display_name": "Python 3",
   "language": "python",
   "name": "python3"
  },
  "language_info": {
   "codemirror_mode": {
    "name": "ipython",
    "version": 3
   },
   "file_extension": ".py",
   "mimetype": "text/x-python",
   "name": "python",
   "nbconvert_exporter": "python",
   "pygments_lexer": "ipython3",
   "version": "3.8.5"
  }
 },
 "nbformat": 4,
 "nbformat_minor": 4
}
