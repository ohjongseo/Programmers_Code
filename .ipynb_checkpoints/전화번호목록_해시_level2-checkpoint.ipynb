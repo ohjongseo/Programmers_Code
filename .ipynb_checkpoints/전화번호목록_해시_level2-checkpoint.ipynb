{
 "cells": [
  {
   "cell_type": "code",
   "execution_count": 5,
   "metadata": {},
   "outputs": [],
   "source": [
    "phone_book = [\n",
    "    [\"119\", \"97674223\", \"1195524421\"],\n",
    "    [\"123\",\"456\",\"789\"],\n",
    "    [\"12\",\"123\",\"1235\",\"567\",\"88\"]\n",
    "]"
   ]
  },
  {
   "cell_type": "code",
   "execution_count": 6,
   "metadata": {},
   "outputs": [],
   "source": [
    "answers = [ False, True, False]"
   ]
  },
  {
   "cell_type": "code",
   "execution_count": 7,
   "metadata": {},
   "outputs": [],
   "source": [
    "def solution(phone_book):\n",
    "    answer = True\n",
    "    word_list = set(phone_book)\n",
    "    for word in phone_book:\n",
    "        temp_word = \"\"\n",
    "        for char in word:\n",
    "            temp_word += char\n",
    "            if (word != temp_word) and (temp_word in word_list):\n",
    "                return False\n",
    "            else:\n",
    "                continue;\n",
    "    else:\n",
    "        return answer"
   ]
  },
  {
   "cell_type": "code",
   "execution_count": 8,
   "metadata": {},
   "outputs": [
    {
     "name": "stdout",
     "output_type": "stream",
     "text": [
      "True\n",
      "True\n",
      "True\n"
     ]
    }
   ],
   "source": [
    "zips = zip(phone_book, answers)\n",
    "for p, a in zips:\n",
    "    if solution(p) == a:\n",
    "        print(True)\n",
    "    else:\n",
    "        print(False)"
   ]
  },
  {
   "cell_type": "code",
   "execution_count": null,
   "metadata": {},
   "outputs": [],
   "source": []
  }
 ],
 "metadata": {
  "kernelspec": {
   "display_name": "Python 3",
   "language": "python",
   "name": "python3"
  },
  "language_info": {
   "codemirror_mode": {
    "name": "ipython",
    "version": 3
   },
   "file_extension": ".py",
   "mimetype": "text/x-python",
   "name": "python",
   "nbconvert_exporter": "python",
   "pygments_lexer": "ipython3",
   "version": "3.8.5"
  }
 },
 "nbformat": 4,
 "nbformat_minor": 4
}
