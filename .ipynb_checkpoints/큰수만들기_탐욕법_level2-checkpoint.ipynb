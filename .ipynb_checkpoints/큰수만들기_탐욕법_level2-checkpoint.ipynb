{
 "cells": [
  {
   "cell_type": "code",
   "execution_count": 1,
   "id": "3e03e0fb",
   "metadata": {},
   "outputs": [],
   "source": [
    "def solution(number, k):\n",
    "    ##### My code #####\n",
    "    # answer = ''\n",
    "    # while k >0:\n",
    "    #     max_num = max(number[:k+1])\n",
    "    #     index = number[:k+1].index(max_num)\n",
    "    #     answer += max_num\n",
    "    #     number = number[index+1:]\n",
    "    #     k -= index\n",
    "    # return answer + number\n",
    "    ##### Reference\n",
    "    ### from https://whwl.tistory.com/99\n",
    "    s = []\n",
    "    cnt = 0\n",
    "    for i in number:\n",
    "        if cnt == k:\n",
    "            s.append(i)\n",
    "        else:\n",
    "            if not s:\n",
    "                s.append(i)\n",
    "                print(s)\n",
    "            else:\n",
    "                while s:\n",
    "                    if cnt == k or i <= s[-1]:\n",
    "                        break;\n",
    "                    if i > s[-1]:\n",
    "                        s.pop()\n",
    "                        cnt += 1\n",
    "                s.append(i)\n",
    "    while cnt != k:\n",
    "        s.pop()\n",
    "        cnt += 1\n",
    "    return ''.join(s)"
   ]
  },
  {
   "cell_type": "code",
   "execution_count": 2,
   "id": "2b2716cc",
   "metadata": {},
   "outputs": [
    {
     "name": "stdout",
     "output_type": "stream",
     "text": [
      "['4']\n"
     ]
    },
    {
     "data": {
      "text/plain": [
       "True"
      ]
     },
     "execution_count": 2,
     "metadata": {},
     "output_type": "execute_result"
    }
   ],
   "source": [
    "solution(\"4177252841\", 4) == \"775841\""
   ]
  },
  {
   "cell_type": "code",
   "execution_count": null,
   "id": "77eda074",
   "metadata": {},
   "outputs": [],
   "source": []
  },
  {
   "cell_type": "code",
   "execution_count": null,
   "id": "c3941082",
   "metadata": {},
   "outputs": [],
   "source": []
  }
 ],
 "metadata": {
  "kernelspec": {
   "display_name": "Python 3",
   "language": "python",
   "name": "python3"
  },
  "language_info": {
   "codemirror_mode": {
    "name": "ipython",
    "version": 3
   },
   "file_extension": ".py",
   "mimetype": "text/x-python",
   "name": "python",
   "nbconvert_exporter": "python",
   "pygments_lexer": "ipython3",
   "version": "3.8.5"
  }
 },
 "nbformat": 4,
 "nbformat_minor": 5
}
