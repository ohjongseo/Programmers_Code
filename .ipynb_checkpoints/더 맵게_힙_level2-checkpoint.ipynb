{
 "cells": [
  {
   "cell_type": "code",
   "execution_count": 49,
   "metadata": {},
   "outputs": [],
   "source": [
    "import heapq"
   ]
  },
  {
   "cell_type": "code",
   "execution_count": 61,
   "metadata": {},
   "outputs": [],
   "source": [
    "import heapq\n",
    "def solution(scoville, K):\n",
    "    answer = 0\n",
    "    heap_list = list()\n",
    "    result = list()\n",
    "    for value in scoville:\n",
    "        heapq.heappush(heap_list, value)\n",
    "    print(heap_list)\n",
    "    while True:\n",
    "        print(heap_list)\n",
    "        if heap_list[0] >= K:\n",
    "            break;\n",
    "        else:\n",
    "            if len(heap_list) < 2:\n",
    "                return -1\n",
    "            else:\n",
    "                num1 = heapq.heappop(heap_list)\n",
    "                num2 = heapq.heappop(heap_list)\n",
    "                num3 = num1 + (num2*2)\n",
    "                print(num1, num2, num3)\n",
    "                heap_list.append(num3)\n",
    "                answer += 1\n",
    "        \n",
    "    return answer"
   ]
  },
  {
   "cell_type": "code",
   "execution_count": 63,
   "metadata": {
    "scrolled": true
   },
   "outputs": [
    {
     "name": "stdout",
     "output_type": "stream",
     "text": [
      "[1, 2, 3, 9, 10, 12]\n",
      "[1, 2, 3, 9, 10, 12]\n",
      "1 2 5\n",
      "[3, 9, 10, 12, 5]\n",
      "3 5 13\n",
      "[9, 12, 10, 13]\n"
     ]
    },
    {
     "data": {
      "text/plain": [
       "True"
      ]
     },
     "execution_count": 63,
     "metadata": {},
     "output_type": "execute_result"
    }
   ],
   "source": [
    "solution([1, 2, 3, 9, 10, 12], 7) == 2"
   ]
  }
 ],
 "metadata": {
  "kernelspec": {
   "display_name": "Python 3",
   "language": "python",
   "name": "python3"
  },
  "language_info": {
   "codemirror_mode": {
    "name": "ipython",
    "version": 3
   },
   "file_extension": ".py",
   "mimetype": "text/x-python",
   "name": "python",
   "nbconvert_exporter": "python",
   "pygments_lexer": "ipython3",
   "version": "3.8.5"
  }
 },
 "nbformat": 4,
 "nbformat_minor": 4
}
