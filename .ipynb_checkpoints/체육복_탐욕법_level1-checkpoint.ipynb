{
 "cells": [
  {
   "cell_type": "code",
   "execution_count": 1,
   "id": "c9359914",
   "metadata": {},
   "outputs": [],
   "source": [
    "def solution(n, lost, reserve):\n",
    "    for i in set(lost).intersection(set(reserve)):\n",
    "        lost.remove(i)\n",
    "        reserve.remove(i)\n",
    "    lost_count = len(lost)\n",
    "    for l_student in lost:\n",
    "        if l_student != n:\n",
    "            if (l_student - 1) in reserve:\n",
    "                lost_count -= 1\n",
    "                reserve.remove((l_student - 1))\n",
    "            elif (l_student + 1) in reserve:\n",
    "                lost_count -= 1\n",
    "                reserve.remove((l_student + 1))\n",
    "            else:\n",
    "                pass\n",
    "        else:\n",
    "            if (l_student - 1) in reserve:\n",
    "                lost_count -= 1\n",
    "                reserve.remove((l_student - 1))\n",
    "        print(reserve)\n",
    "    return n - lost_count"
   ]
  },
  {
   "cell_type": "code",
   "execution_count": 2,
   "id": "1ab98088",
   "metadata": {},
   "outputs": [
    {
     "name": "stdout",
     "output_type": "stream",
     "text": [
      "[3, 5]\n",
      "[5]\n"
     ]
    },
    {
     "data": {
      "text/plain": [
       "True"
      ]
     },
     "execution_count": 2,
     "metadata": {},
     "output_type": "execute_result"
    }
   ],
   "source": [
    "solution(5, [2, 4], [1, 3, 5]) == 5"
   ]
  },
  {
   "cell_type": "code",
   "execution_count": null,
   "id": "d81bf87a",
   "metadata": {},
   "outputs": [],
   "source": []
  }
 ],
 "metadata": {
  "kernelspec": {
   "display_name": "Python 3",
   "language": "python",
   "name": "python3"
  },
  "language_info": {
   "codemirror_mode": {
    "name": "ipython",
    "version": 3
   },
   "file_extension": ".py",
   "mimetype": "text/x-python",
   "name": "python",
   "nbconvert_exporter": "python",
   "pygments_lexer": "ipython3",
   "version": "3.8.5"
  }
 },
 "nbformat": 4,
 "nbformat_minor": 5
}
