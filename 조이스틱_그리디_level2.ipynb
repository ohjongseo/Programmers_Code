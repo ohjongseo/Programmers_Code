{
 "cells": [
  {
   "cell_type": "code",
   "execution_count": 4,
   "id": "1aa9c091",
   "metadata": {},
   "outputs": [],
   "source": [
    "def solution(name):\n",
    "    # A B C D E F G H I J  K  L  M  N  O  P  Q  R  S  T  U  V  W  X  Y  Z\n",
    "    # 0 1 2 3 4 5 6 7 8 9  10 11 12 13 12 11 10 9  8  7  6  5  4  3  2  1\n",
    "    answer = 0\n",
    "    idx = 0\n",
    "    alpha_dict = dict()\n",
    "    alphabet1 = 'ABCDEFGHIJKLMN'\n",
    "    alphabet2 = 'NOPQRSTUVWXYZ'\n",
    "    inital = 'A' * len(name)\n",
    "    order = 0\n",
    "    for alpha in alphabet1:\n",
    "        alpha_dict[alpha] = order\n",
    "        order += 1\n",
    "    for alpha in alphabet2:\n",
    "        order -= 1\n",
    "        alpha_dict[alpha] = order\n",
    "    change = [alpha_dict[i] for i in name]\n",
    "    \n",
    "    ### 참조하여 푼 부분\n",
    "    while True:\n",
    "        answer += change[idx]\n",
    "        change[idx] = 0\n",
    "        if sum(change) == 0:\n",
    "            return answer\n",
    "        \n",
    "        left, right = 1, 1\n",
    "        while change[idx - left] == 0:\n",
    "            left += 1\n",
    "        while change[idx + right] == 0:\n",
    "            right += 1\n",
    "        \n",
    "        answer += left if left < right else right\n",
    "        idx += -left if left < right else right\n",
    "        \n",
    "    ### 원래 푼 방식\n",
    "    # for i in name:\n",
    "    #     if A\n",
    "    #     print(i, alpha_dict[i])\n",
    "    #     answer += alpha_dict[i]\n",
    "    #     print(answer)\n",
    "    # if answer == 0:\n",
    "    #     pass\n",
    "    # else:\n",
    "    #     answer += len(name) - 1\n",
    "    # if name[1] == 'A' or name[-1] == 'A':\n",
    "    #     answer -= 1\n",
    "    return answer"
   ]
  },
  {
   "cell_type": "code",
   "execution_count": 5,
   "id": "3523986c",
   "metadata": {},
   "outputs": [],
   "source": [
    "name = \"ABABAAAAABA\"\n",
    "answer = 11"
   ]
  },
  {
   "cell_type": "code",
   "execution_count": 6,
   "id": "b3daabce",
   "metadata": {},
   "outputs": [
    {
     "name": "stdout",
     "output_type": "stream",
     "text": [
      "[0, 1, 0, 1, 0, 0, 0, 0, 0, 1, 0]\n"
     ]
    },
    {
     "data": {
      "text/plain": [
       "True"
      ]
     },
     "execution_count": 6,
     "metadata": {},
     "output_type": "execute_result"
    }
   ],
   "source": [
    "solution(name) == 11"
   ]
  },
  {
   "cell_type": "markdown",
   "id": "0f9d0212",
   "metadata": {},
   "source": [
    "> Reference : https://whwl.tistory.com/93"
   ]
  },
  {
   "cell_type": "code",
   "execution_count": null,
   "id": "1853b2a3",
   "metadata": {},
   "outputs": [],
   "source": []
  }
 ],
 "metadata": {
  "kernelspec": {
   "display_name": "Python 3",
   "language": "python",
   "name": "python3"
  },
  "language_info": {
   "codemirror_mode": {
    "name": "ipython",
    "version": 3
   },
   "file_extension": ".py",
   "mimetype": "text/x-python",
   "name": "python",
   "nbconvert_exporter": "python",
   "pygments_lexer": "ipython3",
   "version": "3.8.5"
  }
 },
 "nbformat": 4,
 "nbformat_minor": 5
}
