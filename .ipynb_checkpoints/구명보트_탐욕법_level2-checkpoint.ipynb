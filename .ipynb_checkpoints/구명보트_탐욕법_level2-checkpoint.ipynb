{
 "cells": [
  {
   "cell_type": "code",
   "execution_count": 1,
   "id": "b1c8a6b4",
   "metadata": {},
   "outputs": [],
   "source": [
    "### 시간초과되는 코드\n",
    "def solution(people, limit):\n",
    "    people.sort(reverse=True)\n",
    "    print(people)\n",
    "    count = 0\n",
    "    while people:\n",
    "        if people[0] + people[-1] > limit or len(people) == 1:\n",
    "            del people[0]\n",
    "            count += 1\n",
    "        else:\n",
    "            del people[0]\n",
    "            del people[-1]\n",
    "            count += 1\n",
    "    return count"
   ]
  },
  {
   "cell_type": "code",
   "execution_count": 2,
   "id": "bd2a19ca",
   "metadata": {},
   "outputs": [],
   "source": [
    "### 시간초과 통과 코드\n",
    "def solution(people, limit):\n",
    "    people.sort(reverse=True)\n",
    "    count = 0\n",
    "    start = 0\n",
    "    end = len(people) - 1\n",
    "    while start <= end:\n",
    "        if people[start] + people[end] > limit:\n",
    "            start += 1\n",
    "            count += 1\n",
    "        else:\n",
    "            start += 1\n",
    "            end -= 1\n",
    "            count += 1\n",
    "    return count"
   ]
  },
  {
   "cell_type": "code",
   "execution_count": 3,
   "id": "d21f8515",
   "metadata": {},
   "outputs": [
    {
     "data": {
      "text/plain": [
       "True"
      ]
     },
     "execution_count": 3,
     "metadata": {},
     "output_type": "execute_result"
    }
   ],
   "source": [
    "solution([70, 50, 80, 50], 100) == 3"
   ]
  },
  {
   "cell_type": "code",
   "execution_count": null,
   "id": "43005588",
   "metadata": {},
   "outputs": [],
   "source": []
  }
 ],
 "metadata": {
  "kernelspec": {
   "display_name": "Python 3",
   "language": "python",
   "name": "python3"
  },
  "language_info": {
   "codemirror_mode": {
    "name": "ipython",
    "version": 3
   },
   "file_extension": ".py",
   "mimetype": "text/x-python",
   "name": "python",
   "nbconvert_exporter": "python",
   "pygments_lexer": "ipython3",
   "version": "3.8.5"
  }
 },
 "nbformat": 4,
 "nbformat_minor": 5
}
