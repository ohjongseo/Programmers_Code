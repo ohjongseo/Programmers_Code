{
 "cells": [
  {
   "cell_type": "code",
   "execution_count": 1,
   "metadata": {},
   "outputs": [],
   "source": [
    "def solution(numbers):\n",
    "    answer = ''\n",
    "    numbers = list(map(str, numbers))\n",
    "    new_numbers = list()\n",
    "    numbers_dict = dict()\n",
    "    for num in numbers:\n",
    "        new_num = num*3\n",
    "        numbers_dict[new_num] = num\n",
    "        new_numbers.append(new_num)\n",
    "    new_numbers.sort(reverse=True)\n",
    "    for num in new_numbers:\n",
    "        answer += numbers_dict[num]\n",
    "        \n",
    "    # numbers = sorted(list(map(str, numbers)), key=lambda x: x*5, reverse=True)\n",
    "    # return str(int(''.join(numbers)))\n",
    "        \n",
    "    return str(int(answer))"
   ]
  },
  {
   "cell_type": "code",
   "execution_count": 2,
   "metadata": {},
   "outputs": [
    {
     "data": {
      "text/plain": [
       "'6210'"
      ]
     },
     "execution_count": 2,
     "metadata": {},
     "output_type": "execute_result"
    }
   ],
   "source": [
    "solution([6, 10, 2])"
   ]
  },
  {
   "cell_type": "code",
   "execution_count": 3,
   "metadata": {},
   "outputs": [
    {
     "data": {
      "text/plain": [
       "'9534330'"
      ]
     },
     "execution_count": 3,
     "metadata": {},
     "output_type": "execute_result"
    }
   ],
   "source": [
    "solution([3, 30, 34, 5, 9])"
   ]
  }
 ],
 "metadata": {
  "kernelspec": {
   "display_name": "Python 3",
   "language": "python",
   "name": "python3"
  },
  "language_info": {
   "codemirror_mode": {
    "name": "ipython",
    "version": 3
   },
   "file_extension": ".py",
   "mimetype": "text/x-python",
   "name": "python",
   "nbconvert_exporter": "python",
   "pygments_lexer": "ipython3",
   "version": "3.8.5"
  }
 },
 "nbformat": 4,
 "nbformat_minor": 4
}
