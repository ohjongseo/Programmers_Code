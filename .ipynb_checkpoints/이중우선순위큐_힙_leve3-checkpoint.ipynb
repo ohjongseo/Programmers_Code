{
 "cells": [
  {
   "cell_type": "code",
   "execution_count": 42,
   "metadata": {},
   "outputs": [],
   "source": [
    "sample = [\"I 16\",\"D 1\"]"
   ]
  },
  {
   "cell_type": "code",
   "execution_count": 43,
   "metadata": {},
   "outputs": [],
   "source": [
    "import heapq\n",
    "def solution(operations):\n",
    "    answer = []\n",
    "    length = 0\n",
    "    count = 0\n",
    "    operations_list = list()\n",
    "    max_heap = list()\n",
    "    min_heap = list()\n",
    "    for i in operations:\n",
    "        request, num = i.split(\" \")\n",
    "        num = int(num)\n",
    "        if request == 'D':\n",
    "            if num == -1 and min_heap:\n",
    "                count += 1\n",
    "                temp = heapq.heappop(min_heap)\n",
    "                max_heap.remove(temp*(-1))\n",
    "            elif num == 1 and max_heap:\n",
    "                count += 1\n",
    "                temp = heapq.heappop(max_heap)\n",
    "                min_heap.remove(temp*(-1))\n",
    "        elif request == 'I':\n",
    "            length += 1\n",
    "            heapq.heappush(max_heap, -num)\n",
    "            heapq.heappush(min_heap, num)\n",
    "    if length > count:\n",
    "        return [(heapq.heappop(max_heap)*(-1)), (heapq.heappop(min_heap))]\n",
    "    else:\n",
    "        return [0, 0]\n",
    "    return answer"
   ]
  },
  {
   "cell_type": "code",
   "execution_count": 44,
   "metadata": {},
   "outputs": [
    {
     "data": {
      "text/plain": [
       "[0, 0]"
      ]
     },
     "execution_count": 44,
     "metadata": {},
     "output_type": "execute_result"
    }
   ],
   "source": [
    "solution(sample)"
   ]
  }
 ],
 "metadata": {
  "kernelspec": {
   "display_name": "Python 3",
   "language": "python",
   "name": "python3"
  },
  "language_info": {
   "codemirror_mode": {
    "name": "ipython",
    "version": 3
   },
   "file_extension": ".py",
   "mimetype": "text/x-python",
   "name": "python",
   "nbconvert_exporter": "python",
   "pygments_lexer": "ipython3",
   "version": "3.8.5"
  }
 },
 "nbformat": 4,
 "nbformat_minor": 4
}
