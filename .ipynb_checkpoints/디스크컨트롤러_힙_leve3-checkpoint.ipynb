{
 "cells": [
  {
   "cell_type": "code",
   "execution_count": 1,
   "metadata": {},
   "outputs": [],
   "source": [
    "import heapq\n",
    "def solution(jobs):\n",
    "    new_jobs = []\n",
    "    for i in jobs:\n",
    "        heapq.heappush(new_jobs, i)\n",
    "    # num = len(jobs)\n",
    "    answer = 0\n",
    "    current = 0\n",
    "    waiting_list = []\n",
    "    request_time, work_time = heapq.heappop(new_jobs)\n",
    "    heapq.heappush(waiting_list, (work_time, request_time))\n",
    "    work_time, request_time = heapq.heappop(waiting_list)\n",
    "    current = request_time\n",
    "    stop_time = current + work_time\n",
    "    current += work_time\n",
    "    answer += stop_time-request_time\n",
    "    while True:\n",
    "        if len(new_jobs) !=0 and not waiting_list and current < new_jobs[0][0]:\n",
    "            request_time, work_time = heapq.heappop(new_jobs)\n",
    "            heapq.heappush(waiting_list, (work_time, request_time))\n",
    "            work_time, request_time = heapq.heappop(waiting_list)\n",
    "            current = request_time\n",
    "            stop_time = current + work_time\n",
    "            current += work_time\n",
    "            answer += stop_time-request_time\n",
    "            # print('c2', waiting_list)\n",
    "        while len(new_jobs) !=0 and current >= new_jobs[0][0]:\n",
    "            request_time, work_time = heapq.heappop(new_jobs)\n",
    "            heapq.heappush(waiting_list, (work_time, request_time))\n",
    "            # print('c0', waiting_list)\n",
    "        if waiting_list:\n",
    "            work_time, request_time = heapq.heappop(waiting_list)\n",
    "            stop_time = current + work_time\n",
    "            current += work_time\n",
    "            answer += stop_time-request_time\n",
    "            # print('c1', waiting_list, work_time, request_time, current, answer)\n",
    "        elif not new_jobs and not waiting_list:\n",
    "            break;\n",
    "    return answer // len(jobs)"
   ]
  },
  {
   "cell_type": "code",
   "execution_count": 2,
   "metadata": {},
   "outputs": [],
   "source": [
    "sample = [[0, 3], [1, 9], [2, 6]]"
   ]
  },
  {
   "cell_type": "code",
   "execution_count": 3,
   "metadata": {
    "scrolled": false
   },
   "outputs": [
    {
     "data": {
      "text/plain": [
       "True"
      ]
     },
     "execution_count": 3,
     "metadata": {},
     "output_type": "execute_result"
    }
   ],
   "source": [
    "solution(sample) == 9"
   ]
  },
  {
   "cell_type": "code",
   "execution_count": null,
   "metadata": {},
   "outputs": [],
   "source": []
  }
 ],
 "metadata": {
  "kernelspec": {
   "display_name": "Python 3",
   "language": "python",
   "name": "python3"
  },
  "language_info": {
   "codemirror_mode": {
    "name": "ipython",
    "version": 3
   },
   "file_extension": ".py",
   "mimetype": "text/x-python",
   "name": "python",
   "nbconvert_exporter": "python",
   "pygments_lexer": "ipython3",
   "version": "3.8.5"
  }
 },
 "nbformat": 4,
 "nbformat_minor": 4
}
