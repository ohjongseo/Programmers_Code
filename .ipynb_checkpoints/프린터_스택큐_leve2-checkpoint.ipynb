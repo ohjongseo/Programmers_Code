{
 "cells": [
  {
   "cell_type": "code",
   "execution_count": null,
   "metadata": {},
   "outputs": [],
   "source": [
    "from collections import deque\n",
    "def solution(priorities, location):\n",
    "    num = 1\n",
    "    documents = deque(list(range(len(priorities))))\n",
    "    priorities = deque(priorities)\n",
    "    while len(priorities) > 1:\n",
    "        document = documents.popleft()\n",
    "        priority = priorities.popleft()\n",
    "        if not priorities:\n",
    "            break;\n",
    "        if priority < max(priorities):\n",
    "            documents.append(document)\n",
    "            priorities.append(priority)\n",
    "        else:\n",
    "            if document == location:\n",
    "                return num\n",
    "            else:\n",
    "                num += 1\n",
    "    return num"
   ]
  },
  {
   "cell_type": "code",
   "execution_count": null,
   "metadata": {},
   "outputs": [],
   "source": [
    "solution([2, 1, 3, 2], 2) == 1"
   ]
  },
  {
   "cell_type": "code",
   "execution_count": null,
   "metadata": {},
   "outputs": [],
   "source": [
    "solution([1, 1, 9, 1, 1, 1], 0) == 5"
   ]
  },
  {
   "cell_type": "code",
   "execution_count": null,
   "metadata": {},
   "outputs": [],
   "source": []
  }
 ],
 "metadata": {
  "kernelspec": {
   "display_name": "Python 3",
   "language": "python",
   "name": "python3"
  },
  "language_info": {
   "codemirror_mode": {
    "name": "ipython",
    "version": 3
   },
   "file_extension": ".py",
   "mimetype": "text/x-python",
   "name": "python",
   "nbconvert_exporter": "python",
   "pygments_lexer": "ipython3",
   "version": "3.8.5"
  }
 },
 "nbformat": 4,
 "nbformat_minor": 4
}
