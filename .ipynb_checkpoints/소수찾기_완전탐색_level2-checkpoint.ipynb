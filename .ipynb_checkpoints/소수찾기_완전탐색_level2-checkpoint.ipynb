{
 "cells": [
  {
   "cell_type": "code",
   "execution_count": 1,
   "id": "afd65429",
   "metadata": {},
   "outputs": [],
   "source": [
    "a = 1"
   ]
  },
  {
   "cell_type": "code",
   "execution_count": 2,
   "id": "f96e733b",
   "metadata": {},
   "outputs": [],
   "source": [
    "import itertools\n",
    "# 기본적인 소수 판별 방법(2부터 n-1까지 돌려보기)\n",
    "def is_prime_number(x):\n",
    "    # 2부터 (x - 1)까지의 모든 수를 확인\n",
    "    for i in range(2, x):\n",
    "  \t    # x가 해당 수로 나누어떨어지면\n",
    "        if x % i == 0:\n",
    "    \t    return False\n",
    "    return True\n",
    "\n",
    "def solution(numbers):\n",
    "    answer = 0\n",
    "    number_set = set()\n",
    "    number_list = list(numbers)\n",
    "    for i in range(1,len(numbers)+1):\n",
    "        for j in list(itertools.permutations(numbers, i)):\n",
    "            num = ''\n",
    "            for k in j:\n",
    "                num += k\n",
    "            else:\n",
    "                number_set.add(int(num))\n",
    "    if 0 in number_set:\n",
    "        number_set.remove(0)\n",
    "    if 1 in number_set:\n",
    "        number_set.remove(1)\n",
    "    # print(number_set)\n",
    "    answer_list = list(map(lambda x:is_prime_number(x), list(number_set)))\n",
    "    # print(answer_list)\n",
    "    return sum(answer_list)"
   ]
  },
  {
   "cell_type": "code",
   "execution_count": 4,
   "id": "b444319e",
   "metadata": {},
   "outputs": [
    {
     "data": {
      "text/plain": [
       "True"
      ]
     },
     "execution_count": 4,
     "metadata": {},
     "output_type": "execute_result"
    }
   ],
   "source": [
    "solution(\"17\") == 3"
   ]
  },
  {
   "cell_type": "code",
   "execution_count": 5,
   "id": "5881f93e",
   "metadata": {},
   "outputs": [
    {
     "data": {
      "text/plain": [
       "True"
      ]
     },
     "execution_count": 5,
     "metadata": {},
     "output_type": "execute_result"
    }
   ],
   "source": [
    "solution(\"011\") == 2"
   ]
  },
  {
   "cell_type": "code",
   "execution_count": null,
   "id": "073c42f9",
   "metadata": {},
   "outputs": [],
   "source": []
  }
 ],
 "metadata": {
  "kernelspec": {
   "display_name": "Python 3",
   "language": "python",
   "name": "python3"
  },
  "language_info": {
   "codemirror_mode": {
    "name": "ipython",
    "version": 3
   },
   "file_extension": ".py",
   "mimetype": "text/x-python",
   "name": "python",
   "nbconvert_exporter": "python",
   "pygments_lexer": "ipython3",
   "version": "3.8.5"
  }
 },
 "nbformat": 4,
 "nbformat_minor": 5
}
